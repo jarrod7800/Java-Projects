{
 "cells": [
  {
   "cell_type": "markdown",
   "id": "f8fa16f4-1863-4e31-89c4-a2b54f2bb06c",
   "metadata": {},
   "source": [
    "# Stock (Consumer Goods focused) portfolio creation, analysis, and risk measurements.\n",
    "\n",
    "In this notebook we will calculate a number of well known financial statistics. The below statistics in question are usually calculated on a portfolio, so I will create an equallly weighted portfolio of sample stocks (although weights can be arbitrarily chosen). In order to provide examples on real data we will use the following stocks below to illustrate the concepts shown:\n",
    "\n",
    "- 'CL' - Colgate-Palmolive Company \n",
    "- 'PG' - The Procter & Gamble Company\n",
    "- 'JNJ' - Johnson & Johnson\n",
    "- 'KMB' - Kimberly-Clark Corporation\n",
    "- 'UL' - Unilever plc\n",
    "- '^GSPC' - The ticker symbol for the S&P 500 index (broader market index)\n",
    "\n",
    "*note*: ^GSPC is a price index, not a total return index, so it does not include dividends.\n",
    "\n",
    "\n",
    "The statistics we will be calculating are the following:\n",
    "\n",
    "- Sharpe ratio - https://www.investopedia.com/terms/s/sharperatio.asp\n",
    "- Sortino Ratio - https://www.investopedia.com/terms/s/sortinoratio.asp\n",
    "- Max Drawdown - https://www.investopedia.com/terms/m/maximum-drawdown-mdd.asp\n",
    "- Calmar Ratio - https://corporatefinanceinstitute.com/resources/wealth-management/calmar-ratio/\n",
    "- VaR - https://www.investopedia.com/terms/v/var.asp\n",
    "\n",
    "<br>\n",
    "\n",
    "**Time period of anaysis  =   01/01/2002 - 09/30/2022**\n",
    "\n",
    "<br>"
   ]
  },
  {
   "cell_type": "markdown",
   "id": "eb59bdf4",
   "metadata": {},
   "source": [
    "## Import modules"
   ]
  },
  {
   "cell_type": "code",
   "execution_count": null,
   "id": "19210a9d-3c84-4333-a40e-e0d709bc0c79",
   "metadata": {
    "tags": []
   },
   "outputs": [],
   "source": [
    "import time as t\n",
    "import os\n",
    "import glob\n",
    "import math\n",
    "import pandas as pd\n",
    "import numpy as np\n",
    "from pathlib import Path\n",
    "from scipy.stats import norm\n",
    "import matplotlib.pyplot as plt\n",
    "import seaborn as sns\n",
    "sns.set(style='darkgrid', context='talk', palette='Dark2')"
   ]
  },
  {
   "cell_type": "markdown",
   "id": "dbbf4ef6",
   "metadata": {},
   "source": [
    "## Set path to cwd and read in stock files"
   ]
  },
  {
   "cell_type": "code",
   "execution_count": null,
   "id": "04910f2f",
   "metadata": {},
   "outputs": [],
   "source": [
    "# use glob to get all the csv files \n",
    "# in the folder\n",
    "path = os.getcwd()\n",
    "ticker_csv_files = glob.glob(os.path.join(path, \"final_*.csv\"))\n",
    "print(ticker_csv_files)"
   ]
  },
  {
   "cell_type": "markdown",
   "id": "e27fda32",
   "metadata": {},
   "source": [
    "## Get list of stocks from list of files"
   ]
  },
  {
   "cell_type": "code",
   "execution_count": null,
   "id": "8cb8087f",
   "metadata": {},
   "outputs": [],
   "source": [
    "# Create our portfolio of equities\n",
    "stock_list = []\n",
    "for f in ticker_csv_files:\n",
    "    \n",
    "    stock_list.append(f.split(\"l_\")[-1].split('_')[0])\n",
    "\n",
    "print(stock_list)\n",
    "\n",
    "stock_df = dict(map(lambda i,j : (i,j), stock_list,ticker_csv_files))"
   ]
  },
  {
   "cell_type": "markdown",
   "id": "677f7168",
   "metadata": {},
   "source": [
    "## Read in and display each stock's data"
   ]
  },
  {
   "cell_type": "code",
   "execution_count": null,
   "id": "99634b61",
   "metadata": {},
   "outputs": [],
   "source": [
    "stocks = {}\n",
    "# loop over the list of csv files\n",
    "for i, f in stock_df.items():\n",
    "    # read the csv file\n",
    "    stocks[i] = pd.read_csv(f, parse_dates = ['date'])\n",
    "    stocks[i].set_index('date', inplace=True)\n",
    "    # print the location and filename\n",
    "    print('Location:', f)\n",
    "    print('File Name:', f.split(\"final_\")[-1])\n",
    "      \n",
    "    # print the content\n",
    "    print('Content:')\n",
    "    display(stocks[i])\n",
    "    print()"
   ]
  },
  {
   "cell_type": "markdown",
   "id": "0593a051",
   "metadata": {},
   "source": [
    "# Create our portfolio of stocks"
   ]
  },
  {
   "cell_type": "code",
   "execution_count": null,
   "id": "ebc13568",
   "metadata": {},
   "outputs": [],
   "source": [
    "# Set the investment weights (I arbitrarily picked for example)\n",
    "weights = np.array([1/len(stock_list) for i in range(len(stock_list))]) #1/6th for each\n",
    "print(weights)\n",
    "# Set an initial investment level of $100,000\n",
    "initial_investment = 100000"
   ]
  },
  {
   "cell_type": "markdown",
   "id": "2155fc26",
   "metadata": {},
   "source": [
    "## Analyzing Daily returns\n",
    "\n",
    "\n",
    "Stock levels (prices) tend to follow a pattern of cycles rather than seasonality. This along with numerous other factors tend to make stock levels random and therefore stochastic. Some think stocks follow a path of geometric brownian motion. That assumption along with advancements within Stochastic differential equations allowed for the derivation of black scholes formula, which is frequently used in modern options theory pricing. \n",
    "\n",
    "After plotting returns over the 20 year period for our stocks intuition says it may be a better idea to forecast direction of returns rather than stock prices since returns seem much more stationary.\n",
    "\n",
    "Enough talk, lets continue analyzing our returns.\n",
    "\n",
    "To create the financial statistics we seek we will need to first access the returns for our portfolio over time. This is simply the percent change from one time period to the next. The days in the index of our data correspond to business days only which is very nice to have for later backtesting strategies and portfolio allocations. We additionally will drop all empty values at the beginning.\n",
    "\n"
   ]
  },
  {
   "cell_type": "markdown",
   "id": "001108b3",
   "metadata": {},
   "source": [
    "###  Pull daily returns from adjclose prices in our data for each stock"
   ]
  },
  {
   "cell_type": "code",
   "execution_count": null,
   "id": "b47e95f4",
   "metadata": {
    "scrolled": true
   },
   "outputs": [],
   "source": [
    "daily_returns = {}\n",
    "for i in stock_list:\n",
    "    daily_returns[i] = stocks[i]['adjclose'].pct_change().dropna()\n",
    "    daily_returns[i].rename('daily_return', inplace=True)"
   ]
  },
  {
   "cell_type": "markdown",
   "id": "d81a2485",
   "metadata": {},
   "source": [
    "### Plot our daily returns for each stock"
   ]
  },
  {
   "cell_type": "code",
   "execution_count": null,
   "id": "56863156",
   "metadata": {},
   "outputs": [],
   "source": [
    "for i in stock_list:    \n",
    "    plt.figure(figsize=(15,5))\n",
    "    plt.title(\"{}'s daily returns\".format(i))\n",
    "    plt.plot(daily_returns[i], marker='.')"
   ]
  },
  {
   "cell_type": "markdown",
   "id": "b5ea4375",
   "metadata": {},
   "source": [
    "### How are our returns distributed for each stock?"
   ]
  },
  {
   "cell_type": "code",
   "execution_count": null,
   "id": "9f7ae3f4",
   "metadata": {},
   "outputs": [],
   "source": [
    "for i in stock_list:\n",
    "    plt.figure(figsize=(15,5))\n",
    "    plt.title(\"Histogram of {}'s daily returns\".format(i))\n",
    "    sns.histplot(x=daily_returns[i],bins=100,color='red')"
   ]
  },
  {
   "cell_type": "markdown",
   "id": "a4d52159",
   "metadata": {},
   "source": [
    "\n",
    "\n",
    "Based on our data, our stocks daily returns look fairly normally distributed. \n",
    "\n",
    "Stock levels (prices) are usually log normally distributed, and stock price returns are usually normally distributed. \n",
    "\n",
    "<br>\n"
   ]
  },
  {
   "cell_type": "code",
   "execution_count": null,
   "id": "64b69160",
   "metadata": {},
   "outputs": [],
   "source": [
    "daily_rets = pd.DataFrame(daily_returns)\n",
    "sns.pairplot(daily_rets)"
   ]
  },
  {
   "cell_type": "code",
   "execution_count": null,
   "id": "2dc74930",
   "metadata": {},
   "outputs": [],
   "source": [
    "plt.figure(figsize=(15,10))\n",
    "sns.heatmap(daily_rets.corr(), annot=True)"
   ]
  },
  {
   "cell_type": "markdown",
   "id": "408ce893",
   "metadata": {},
   "source": [
    "<br>\n",
    "\n",
    "## Create daily weighted portfolio allocations\n",
    "\n",
    "After getting our daily returns for each stock we now need to create our daily allocations for each stock by adjusting our weights to our returns for each day. \n",
    "\n",
    "First, we create a for loop and zip our stocks to their respective weights. Then we multiply our weights to each stock's series of normalized returns, which is simply dividing each close price by the last close price in the data."
   ]
  },
  {
   "cell_type": "code",
   "execution_count": null,
   "id": "bc6e3804",
   "metadata": {},
   "outputs": [],
   "source": [
    "allocations = {}\n",
    "for i, weights in zip(stock_list, weights):\n",
    "    allocations[i] = (stocks[i]['adjclose']/ stocks[i].iloc[0]['adjclose']) * weights\n",
    "    allocations[i].rename('allocations', inplace=True)\n",
    "#display(allocations)"
   ]
  },
  {
   "cell_type": "markdown",
   "id": "83bdba34",
   "metadata": {},
   "source": [
    "<br>\n",
    "\n",
    "## Create daily portfolio positions based on initial investment and allocations for each stock\n",
    "\n",
    "The next step in creating our portfolio is to create our daily positions for each stock in our portfolio. This will be based on our daily allocations allong with our initial investment. For example, let’s assume our portfolio size is 10k on the first day. We simply multiply it with the Allocation column for each company which is already adjusted to the normalized return. \n",
    "\n",
    "This will give us the amount of money invested in each stock in our portfolio over time. We will afterwards utilize the position column for each stock to get our total portfolio position over time.\n"
   ]
  },
  {
   "cell_type": "code",
   "execution_count": null,
   "id": "ff12c9f8",
   "metadata": {},
   "outputs": [],
   "source": [
    "positions = {}\n",
    "for i in stock_list:\n",
    "    positions[i] = allocations[i] * initial_investment\n",
    "    positions[i].rename('positions', inplace=True)\n",
    "#display(positions)"
   ]
  },
  {
   "cell_type": "markdown",
   "id": "01e77ff7",
   "metadata": {},
   "source": [
    "## Combine portfolio info for each stock into one dataframe"
   ]
  },
  {
   "cell_type": "code",
   "execution_count": null,
   "id": "ef419056-acec-4c45-bccb-b05f8e47dcbf",
   "metadata": {},
   "outputs": [],
   "source": [
    "portfolio = {}\n",
    "for i in stock_list:\n",
    "    portfolio[i] = pd.concat([daily_returns[i], allocations[i], positions[i]], axis=1)\n",
    "    print('Portfolio information for: ' + i)\n",
    "    display(portfolio[i])"
   ]
  },
  {
   "cell_type": "markdown",
   "id": "7ca9b4fa",
   "metadata": {},
   "source": [
    "## Combine all portfolio positions into one DF and create a Total Portfolio Position column"
   ]
  },
  {
   "cell_type": "code",
   "execution_count": null,
   "id": "a3e63fa9",
   "metadata": {},
   "outputs": [],
   "source": [
    "all_pos = [portfolio[i]['positions'] for i in stock_list]\n",
    "portf_val = pd.concat(all_pos, axis=1)\n",
    "portf_val.columns = [i + ' Position' for i in stock_list]\n",
    "portf_val['Total Portfolio Position'] = portf_val.sum(axis=1)\n",
    "display(portf_val)"
   ]
  },
  {
   "cell_type": "markdown",
   "id": "8500e893",
   "metadata": {},
   "source": [
    "## Plot each investment's positions within our portfolio over time"
   ]
  },
  {
   "cell_type": "code",
   "execution_count": null,
   "id": "87ec65b9",
   "metadata": {},
   "outputs": [],
   "source": [
    "portf_val.drop('Total Portfolio Position', axis=1).plot(figsize=(15,10))\n",
    "plt.title(\"Each stock's portfolio positions over time\")\n",
    "plt.ylabel('Total Portfolio Worth ($)')"
   ]
  },
  {
   "cell_type": "markdown",
   "id": "b5668fb7",
   "metadata": {},
   "source": [
    "## Plot our Total Portfolio Position over time"
   ]
  },
  {
   "cell_type": "code",
   "execution_count": null,
   "id": "558a5ede",
   "metadata": {},
   "outputs": [],
   "source": [
    "portf_val['Total Portfolio Position'].plot(figsize=(20,10))\n",
    "plt.title('Total Portfolio Position Over Time')\n",
    "plt.ylabel('Total Portfolio Worth')"
   ]
  },
  {
   "cell_type": "markdown",
   "id": "5109bc63",
   "metadata": {},
   "source": [
    "As to be expected we can see our portfolio too large hits following the financial crisis of 2008 and in 2020 during the pandemic. Nonetheless our portfolio has perfomed pretty well on the surface over the years. We will be able to get a better picture of risk adjusted returns shortly after we calculate our statistics below.\n",
    "\n",
    "<br>\n",
    "\n",
    "## What was our portfolios cumulative return?\n",
    "\n",
    "What is really important to us as investors is return on investment over time. We can think of this as our cumulative return for our total portfolio.\n",
    "\n",
    "Investors commonly assess this calculation at the total portfolio level to get a wholistic view of portfolio performance over time."
   ]
  },
  {
   "cell_type": "code",
   "execution_count": null,
   "id": "75fd67bc",
   "metadata": {},
   "outputs": [],
   "source": [
    "cumulative_return = (portf_val['Total Portfolio Position'][-1]/portf_val['Total Portfolio Position'][0] -1) * 100\n",
    "\n",
    "print('Your cumulative return was {:.2f}% '.format(cumulative_return))"
   ]
  },
  {
   "cell_type": "markdown",
   "id": "b3d58775",
   "metadata": {},
   "source": [
    "<br>\n",
    "\n",
    "## Bonus: If I invested a dollar into any investment within the portfolio or the portfolio itself on 01/01/2002,  how would each perform?"
   ]
  },
  {
   "cell_type": "markdown",
   "id": "ae673d6b",
   "metadata": {},
   "source": [
    "\n",
    "Before we can calculate our statistics we first will need to create a Total Portfolio Return column within the daily_rets dataframe above to capture the daily returns of our total portfolio.\n",
    "\n",
    "Recall the daily_rets dataframe below:"
   ]
  },
  {
   "cell_type": "code",
   "execution_count": null,
   "id": "16f95a50",
   "metadata": {},
   "outputs": [],
   "source": [
    "daily_rets"
   ]
  },
  {
   "cell_type": "code",
   "execution_count": null,
   "id": "5eb42e5d",
   "metadata": {},
   "outputs": [],
   "source": [
    "daily_rets.columns = [i + ' daily return' for i in stock_list]\n",
    "daily_rets['Total Portfolio Return'] = daily_rets.mean(axis=1)\n",
    "display(daily_rets)"
   ]
  },
  {
   "cell_type": "markdown",
   "id": "db3dce6a",
   "metadata": {},
   "source": [
    "Perhaps another cool way to look at our portfolio over time is to look at the growth one dollar invested at the start of our analysis till then end. In other words, to observe how one dollar invested in each ticker from 01/01/2002 - 09/30/2022 performed.\n",
    "\n",
    "had we not dropped the first row of na values earlier when reading in returns, "
   ]
  },
  {
   "cell_type": "code",
   "execution_count": null,
   "id": "834537f4",
   "metadata": {},
   "outputs": [],
   "source": [
    "all_cols = stock_list + ['Total Portfolio']\n",
    "dol_growth = (daily_rets+1).cumprod()\n",
    "dol_growth.columns = [i + ' $' for i in all_cols]\n",
    "dol_growth.plot(figsize=(14,10))\n",
    "plt.title(\"The Growth of One Dollar In Each Investment Over Past 20 Years\")\n",
    "\n",
    "display(dol_growth)"
   ]
  },
  {
   "cell_type": "markdown",
   "id": "a639ae08",
   "metadata": {},
   "source": [
    "<br>\n",
    "\n",
    "# Now that we have a real portfolio simulated over the past 20 years, lets finally calculate our financial statistics. "
   ]
  },
  {
   "cell_type": "markdown",
   "id": "369725e3",
   "metadata": {},
   "source": [
    "**Note**: Since our data frequency is daily we need to annualize both the expected return and standard deviation. This can be achieved by multiplying the daily average return by 255, and multiplying the daily standard deviation by √255. For simplicity we will assume that the risk-free rate rfr = average daily rfr% throughout the 20 year period since we have access to daily fed fund interest rate in our data already. This column is the same in each stock csv file we used so we can use any stocks 'fedFundRate_(d)' column"
   ]
  },
  {
   "cell_type": "code",
   "execution_count": null,
   "id": "25c3b94a",
   "metadata": {},
   "outputs": [],
   "source": [
    "average_rfr = ((stocks[i]['fedFundRate_(d)']/100).mean()) #% risk free rate"
   ]
  },
  {
   "cell_type": "markdown",
   "id": "8f0b080c",
   "metadata": {},
   "source": [
    "## Sharpe Ratio\n",
    " \n",
    "\n",
    "The Sharpe ratio is the most common ratio for comparing reward (return on investment) to risk (standard deviation). This allows us to adjust the returns on an investment by the amount of risk that was taken in order to achieve it. The Sharpe ratio also provides a useful metric to compare investments. The calculations are as follows:\n",
    "\n",
    "Sharpe ratio =  (R − rfr) / σ\n",
    "\n",
    "\n",
    "R:  annual expected return of the asset in question. \n",
    "\n",
    "rfr: annual risk-free rate. Think of this like a deposit in the bank earning x% per annum.  \n",
    "\n",
    "σ :  annualized standard deviation of returns\n",
    "\n",
    "\n",
    "You can interpret the Sharpe ratio as - higher numbers relate to better risk-adjusted investments.\n"
   ]
  },
  {
   "cell_type": "code",
   "execution_count": null,
   "id": "58f217bd",
   "metadata": {
    "scrolled": true
   },
   "outputs": [],
   "source": [
    "def sharpe_ratio(series, N, rfr):\n",
    "    nomin = series.mean() * N -rfr\n",
    "    sigma = series.std() * np.sqrt(N)\n",
    "    return nomin / sigma\n",
    "\n",
    "N = 255 #255 trading days in a year\n",
    "\n",
    "sharpe = daily_rets.copy()\n",
    "sharpe.columns = [i for i in all_cols]\n",
    "\n",
    "\n",
    "sharpes = sharpe.apply(sharpe_ratio, args=(N,average_rfr,),axis=0)\n",
    "display(sharpes)\n",
    "sharpes.plot.bar()\n",
    "plt.title('Sharpe Ratios For Portfolio')\n",
    "plt.ylabel('Sharpe Ratio')"
   ]
  },
  {
   "attachments": {
    "Sortino_ratio.png": {
     "image/png": "[encoded data removed]"
    }
   },
   "cell_type": "markdown",
   "id": "160d4874",
   "metadata": {},
   "source": [
    "## Sortino Ratio\n",
    "\n",
    "The Sortino ratio is similar to the Sharpe ratio, the main difference being that where the Sharpe ratio uses all the observations for calculating the standard deviation, the Sortino ratio only considers the downside variance. So in the plot below, we are only considering the deviations to the left of the mean. \n",
    "\n",
    "![Sortino_ratio.png](attachment:Sortino_ratio.png)\n",
    "\n",
    "\n",
    "The intuition behind the ratio is that investors aren't worried about positive deviations (upward price movements), however the negative deviations are of major concern, since they represent a loss. \n",
    "\n",
    "Sortino ratio = (R − rfr) / σ-\n",
    "\n",
    "R:  annual expected return of the asset in question. \n",
    "\n",
    "rfr: annual risk-free rate. Think of this like a deposit in the bank earning x% per annum.  \n",
    " \n",
    "σ- = the annualized down-side standard deviation. \n",
    "\n",
    "Everything in the ratio above is the same as the Sharpe ratio except σ-."
   ]
  },
  {
   "cell_type": "code",
   "execution_count": null,
   "id": "94177f52",
   "metadata": {},
   "outputs": [],
   "source": [
    "def sortino_ratio(series, N, rfr):\n",
    "    mean = series.mean() * N - rfr\n",
    "    std_neg = series[series<0].std() * np.sqrt(N)\n",
    "    return mean/std_neg\n",
    "\n",
    "\n",
    "sortino = daily_rets.copy()\n",
    "sortino.columns = [i for i in all_cols]\n",
    "\n",
    "\n",
    "sortinos = sortino.apply(sortino_ratio, args=(N,average_rfr,), axis=0)\n",
    "sortinos.plot.bar()\n",
    "plt.title('Sortino Ratios For Portfolio')\n",
    "plt.ylabel('Sortino Ratio')\n"
   ]
  },
  {
   "attachments": {
    "Maximum-Drawdown-and-Time-under-Water.png": {
     "image/png": "[encoded data removed]"
    }
   },
   "cell_type": "markdown",
   "id": "b7370dc6",
   "metadata": {},
   "source": [
    "## Max Drawdown\n",
    "\n",
    "Max drawdown quantifies the steepest decline from peak to trough observed for an investment.\n",
    "![Maximum-Drawdown-and-Time-under-Water.png](attachment:Maximum-Drawdown-and-Time-under-Water.png)\n",
    "\n",
    "\n",
    "To calculate max drawdown first we need to calculate a series of drawdowns as follows:\n",
    "\n",
    "drawdowns = (peak - trough) / peak\n",
    "\n",
    "We then take the absolute of the minimum of this value throughout the period of analysis. In our case ~20 years. \n",
    "\n",
    "You can interpret max drawdown as - numbers closer to zero are most preferable.\n"
   ]
  },
  {
   "cell_type": "code",
   "execution_count": null,
   "id": "f58c3b06",
   "metadata": {},
   "outputs": [],
   "source": [
    "def max_drawdown(return_series):\n",
    "    comp_ret = (return_series+1).cumprod()\n",
    "    peak = comp_ret.expanding(min_periods=1).max()\n",
    "    dd = (comp_ret/peak)-1\n",
    "    return np.absolute(dd.min())\n",
    "\n",
    "\n",
    "max_dd = daily_rets.copy()\n",
    "max_dd.columns = [i for i in all_cols]\n",
    "\n",
    "\n",
    "\n",
    "max_drawdowns = max_dd.apply(max_drawdown,axis=0)\n",
    "max_drawdowns.plot.bar()\n",
    "plt.title('Max Drawdowns For Portfolio')\n",
    "plt.ylabel('Investment Max Drawdown')"
   ]
  },
  {
   "cell_type": "markdown",
   "id": "19827e64",
   "metadata": {},
   "source": [
    "## Calmar Ratio\n",
    "\n",
    "The Calmar ratio is similar to the other ratios, with the key difference being that it uses max drawdown in the denominator as opposed to standard deviation. \n",
    "\n",
    "Calmar ratio = R / max drawdown\n",
    "\n",
    "R:  annual expected return of the asset in question.\n",
    "\n",
    "You can interpret the Calmar ratio as - along with the Sharpe and Sortino ratios, higher values are preferable."
   ]
  },
  {
   "cell_type": "code",
   "execution_count": null,
   "id": "b0409d40",
   "metadata": {},
   "outputs": [],
   "source": [
    "calmar = daily_rets.copy()\n",
    "\n",
    "calmar.columns = [i for i in all_cols]\n",
    "\n",
    "calmars_ratio = calmar.mean()*255/abs(max_drawdowns)\n",
    "\n",
    "calmars_ratio.plot.bar()\n",
    "plt.title('Calmar Ratios For Portfolio')\n",
    "plt.ylabel('Calmar Ratio')"
   ]
  },
  {
   "cell_type": "markdown",
   "id": "040286f9",
   "metadata": {},
   "source": [
    "## Now lets display the ratios for our portfolio all at once. \n",
    "\n",
    "Given our analysis period was the past 20 years. "
   ]
  },
  {
   "cell_type": "code",
   "execution_count": null,
   "id": "8327fee9",
   "metadata": {},
   "outputs": [],
   "source": [
    "stats = pd.DataFrame()\n",
    "stats['sortino'] = sortinos\n",
    "stats['sharpe'] = sharpes\n",
    "stats['maxdd'] = max_drawdowns\n",
    "stats['calmar'] = calmars_ratio\n",
    "\n",
    "stats"
   ]
  },
  {
   "cell_type": "markdown",
   "id": "df56a8de",
   "metadata": {},
   "source": [
    "## Bonus: Plot expected returns vs risk of returns for portfolio"
   ]
  },
  {
   "cell_type": "code",
   "execution_count": null,
   "id": "dbc33891",
   "metadata": {},
   "outputs": [],
   "source": [
    "annual_expected_return = daily_rets.mean() *255\n",
    "\n",
    "plt.figure(figsize=(14,7))\n",
    "plt.title(\"Analyzing Risk: Expected Returns vs Std of Returns\")\n",
    "plt.scatter(annual_expected_return, daily_rets.std())\n",
    "plt.xlabel('Expected Return')\n",
    "plt.ylabel('Std of Returns (Risk)')\n",
    "\n",
    "for idx, stock in enumerate(all_cols):\n",
    "    plt.annotate(stock, (annual_expected_return[idx], daily_rets.std()[idx]))"
   ]
  },
  {
   "cell_type": "markdown",
   "id": "a7eb7298",
   "metadata": {},
   "source": [
    "We can interpret the above as - higher expected returns and lower std is better. Therefore our portfolio does decent with low risk for average reward but PG also has higher reward and average risk relative to our other investments.\n",
    "\n",
    "The above statistics we calculated give us insight into how our portfolio performed adjusted for risk across our analysis period. Although these may be some of the more famous financial statisitcs there are other metrics such as VaR which help us measure risk for our portfolio as well. One of which is VaR which can also help us get a future assessment of our capital at risk. \n",
    "\n",
    "<br>"
   ]
  },
  {
   "cell_type": "markdown",
   "id": "b91e7503",
   "metadata": {},
   "source": [
    "## Value at Risk (VaR)\n",
    "\n",
    "Value at risk (VaR) is a statistic that quantifies the extent of possible financial losses within a firm, portfolio, or position over a specific time frame. This metric is most commonly used by investment and commercial banks to determine the extent and probabilities of potential losses in their institutional portfolios.\n",
    "\n",
    "In other words, VaR can be thought of as the amount of money we could expect to lose for a given confidence interval over a specified period of time. \n",
    "\n",
    "Before we start, note that the standard VaR calculation assumes the following:\n",
    "\n",
    "- Normal distribution of returns - VaR assumes the returns of the portfolio are normally distributed. This is of course not realistic for most assets, but allows us to develop a baseline using a much more simplistic calculation. (Modifications can be made to VaR to account for different distributions)\n",
    "\n",
    "- Standard market conditions - Like many financial instruments, VaR is best used for considering loss in standard markets, and is not well-suited for extreme/outlier events.\n",
    "\n",
    "There are three common ways to extract VaR from stock returns: the 'Bootstrap/Historical' method, the Covariance-Variance method, and lastly a 'Monte Carlo Method' simulation to extract this value. I will show two methods below."
   ]
  },
  {
   "cell_type": "markdown",
   "id": "59924c0b",
   "metadata": {},
   "source": [
    "### Bootstrap Method"
   ]
  },
  {
   "cell_type": "code",
   "execution_count": null,
   "id": "689d4285",
   "metadata": {},
   "outputs": [],
   "source": [
    "bootstrap = daily_rets.quantile(0.05)\n",
    "bootstrap"
   ]
  },
  {
   "cell_type": "markdown",
   "id": "fe43abbb",
   "metadata": {},
   "source": [
    "The 0.05 empirical quantile of daily returns for PG is at -0.0118. This means that with 95% confidence, the worst daily loss will not exceed 1.18% (of the investment).\n",
    "\n",
    "<br>\n",
    "\n",
    "## Monte-Carlo Simulation\n",
    "\n",
    "A final approach to VaR is to conduct a Monte Carlo simulation. This technique uses computational models to simulate projected returns over many possible iterations. Then, it takes the chances that a loss will occur, say 5% of the time, and reveals the impact over the simulated time period.\n",
    "\n",
    "For our simulation we will be performing a Monte Carlo simulation on our PG data to get VaR for the remainder of 2022."
   ]
  },
  {
   "cell_type": "code",
   "execution_count": null,
   "id": "93d10a42",
   "metadata": {},
   "outputs": [],
   "source": [
    "# last quarter of 2022\n",
    "days = 91\n",
    "\n",
    "#delta t (change in daily increments)\n",
    "dt = 1/days\n",
    "\n",
    "mu = daily_returns['PG'].mean()\n",
    "\n",
    "sig = daily_returns['PG'].std()"
   ]
  },
  {
   "cell_type": "code",
   "execution_count": null,
   "id": "a03440a1",
   "metadata": {},
   "outputs": [],
   "source": [
    "#Function takes in stock price, number of days to run, mean and standard deviation values\n",
    "def stock_monte_carlo(start_price,days,mu,sigma):\n",
    "    \n",
    "    price = np.zeros(days)\n",
    "    price[0] = start_price\n",
    "    \n",
    "    shock = np.zeros(days)\n",
    "    drift = np.zeros(days)\n",
    "    \n",
    "    for i in range(1,days):\n",
    "        \n",
    "        #Shock and drift formulas taken from the Monte Carlo formula\n",
    "        shock[i] = np.random.normal(loc=mu*dt,scale=sig*np.sqrt(dt))\n",
    "        \n",
    "        drift[i] = mu * dt\n",
    "        \n",
    "        #New price = Old price + Old price*(shock+drift)\n",
    "        price[i] = price[i-1] + (price[i-1] * (drift[i]+shock[i]))\n",
    "        \n",
    "    return price"
   ]
  },
  {
   "cell_type": "markdown",
   "id": "0cb5dc73",
   "metadata": {},
   "source": [
    "### Set up a small test run for visualization"
   ]
  },
  {
   "cell_type": "code",
   "execution_count": null,
   "id": "042ec70f",
   "metadata": {},
   "outputs": [],
   "source": [
    "last_price = stocks['PG']['adjclose'][-1] \n",
    "\n",
    "plt.figure(figsize=(15,7))\n",
    "\n",
    "for run in range(100):\n",
    "    plt.plot(stock_monte_carlo(last_price,days,mu,sig))\n",
    "\n",
    "plt.title(\"Monte Carlo 100 Simulated Random Walks for PG Stock Price Q4'2022\")\n",
    "plt.xlabel('Simulated Days')\n",
    "plt.ylabel('Price')"
   ]
  },
  {
   "cell_type": "markdown",
   "id": "4360b2ff",
   "metadata": {},
   "source": [
    "### Set up number of runs and run simulation"
   ]
  },
  {
   "cell_type": "code",
   "execution_count": null,
   "id": "906fe48a",
   "metadata": {},
   "outputs": [],
   "source": [
    "runs = 20000\n",
    "\n",
    "simulations = np.zeros(runs)\n",
    "\n",
    "for run in range(runs):\n",
    "    simulations[run] = stock_monte_carlo(last_price,days,mu,sig)[days-1]"
   ]
  },
  {
   "cell_type": "markdown",
   "id": "23b16a00",
   "metadata": {},
   "source": [
    "### Plot distribution of simulated prices and extract VaR"
   ]
  },
  {
   "cell_type": "code",
   "execution_count": null,
   "id": "73bca64f",
   "metadata": {},
   "outputs": [],
   "source": [
    "q = np.percentile(simulations,5)\n",
    "\n",
    "plt.figure(figsize=(15,6))\n",
    "plt.hist(simulations,bins=100)\n",
    "\n",
    "plt.figtext(0.65,0.8,\"Starting price: $%.2f\" %last_price)\n",
    "\n",
    "plt.figtext(0.65,0.7,\"Mean final price: $%.2f\" % simulations.mean())\n",
    "\n",
    "plt.figtext(0.65,0.6,\"VaR(0.95): $%.2f\" % (last_price - q,))\n",
    "\n",
    "plt.figtext(0.22,0.6, \"q(0.95): $%.2f\" % q)\n",
    "\n",
    "plt.axvline(x=q, linewidth=4, color='r')\n",
    "\n",
    "plt.title(\"Final price distribution for PG Stock after %s days\" %days, weight='bold')\n",
    "plt.xlabel('Price')\n",
    "plt.ylabel('Frequency')"
   ]
  }
 ],
 "metadata": {
  "kernelspec": {
   "display_name": "Python 3",
   "language": "python",
   "name": "python3"
  },
  "language_info": {
   "codemirror_mode": {
    "name": "ipython",
    "version": 3
   },
   "file_extension": ".py",
   "mimetype": "text/x-python",
   "name": "python",
   "nbconvert_exporter": "python",
   "pygments_lexer": "ipython3",
   "version": "3.8.8"
  }
 },
 "nbformat": 4,
 "nbformat_minor": 5
}
