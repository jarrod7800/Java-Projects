{
 "cells": [
  {
   "cell_type": "code",
   "execution_count": 1,
   "id": "062ab5e7",
   "metadata": {},
   "outputs": [],
   "source": [
    "#Import modules\n",
    "import time as t\n",
    "import pandas as pd\n",
    "import yahoo_fin.stock_info as si"
   ]
  },
  {
   "cell_type": "code",
   "execution_count": 5,
   "id": "3d267dfe",
   "metadata": {},
   "outputs": [],
   "source": [
    "#Import tickers from excel file\n",
    "tickers = pd.read_excel('ValidatedTickers.xlsx')\n",
    "         \n",
    "#Empty lists\n",
    "tickersList = ['PG', 'UL', 'CL', 'JNJ', 'KMB', '^GSPC']\n",
    "\n",
    "start = '01/01/2002'\n",
    "end = '10/01/2022'\n",
    "\n",
    "# Getting all weekdays between 01/01/2000 and 12/31/2016\n",
    "all_weekdays = pd.date_range(start=start, end=end, freq='B')"
   ]
  },
  {
   "cell_type": "code",
   "execution_count": 6,
   "id": "2084ac7d",
   "metadata": {},
   "outputs": [
    {
     "name": "stdout",
     "output_type": "stream",
     "text": [
      "PG confirmed!\n",
      "UL confirmed!\n",
      "CL confirmed!\n",
      "JNJ confirmed!\n",
      "KMB confirmed!\n",
      "^GSPC confirmed!\n"
     ]
    }
   ],
   "source": [
    "#For all stocks in list\n",
    "for ticker in tickersList:\n",
    "    #Try block for all exception issues during requests\n",
    "    try:\n",
    "        #Request data sets\n",
    "        priceData = si.get_data(ticker, start_date = start, end_date = end)\n",
    "        priceData.reindex(all_weekdays)\n",
    "        priceData.fillna(method='ffill')\n",
    "        priceData.to_csv(f'ticker_{ticker}.csv', index=True)\n",
    "        #Sleep \n",
    "        t.sleep(1)  \n",
    "\n",
    "    except IndexError:\n",
    "        print('Index Error - not enough data ' + ticker)\n",
    "        continue\n",
    "\n",
    "    print(ticker + \" confirmed!\")\n",
    "    #Sleep\n",
    "    t.sleep(1)"
   ]
  },
  {
   "cell_type": "code",
   "execution_count": null,
   "id": "da06f6b0",
   "metadata": {},
   "outputs": [],
   "source": []
  }
 ],
 "metadata": {
  "kernelspec": {
   "display_name": "Python 3",
   "language": "python",
   "name": "python3"
  },
  "language_info": {
   "codemirror_mode": {
    "name": "ipython",
    "version": 3
   },
   "file_extension": ".py",
   "mimetype": "text/x-python",
   "name": "python",
   "nbconvert_exporter": "python",
   "pygments_lexer": "ipython3",
   "version": "3.8.8"
  }
 },
 "nbformat": 4,
 "nbformat_minor": 5
}
